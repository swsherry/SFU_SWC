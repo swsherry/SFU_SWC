{
 "metadata": {
  "name": "SFU_Python"
 },
 "nbformat": 3,
 "nbformat_minor": 0,
 "worksheets": [
  {
   "cells": [
    {
     "cell_type": "markdown",
     "metadata": {},
     "source": [
      "## <center> Python and real world problems </center>\n"
     ]
    },
    {
     "cell_type": "markdown",
     "metadata": {},
     "source": [
      "Python can be used for a variety of realworld problems.  Here's a simple bioinformatics problem: \n",
      "\n",
      "An example of a length 21 DNA string (whose alphabet contains the symbols 'A', 'C', 'G', and 'T') is \"ATGCTTCAGAAAGGTCTTACG.\"\n",
      "\n",
      "*Given:* A DNA string s of length at most 1000 nt.\n",
      "\n",
      "*Return:* Four integers (separated by spaces) counting the respective number of times that the symbols 'A', 'C', 'G', and 'T' occur in s."
     ]
    },
    {
     "cell_type": "code",
     "collapsed": false,
     "input": [
      "s = \"ATGCTTCAGAAAGGTCTTACG\"\n",
      "out_dict = {\"A\":0,\"T\":0,\"C\":0,\"G\":0}\n",
      "for i in s:\n",
      "    if i == \"A\":\n",
      "        out_dict[\"A\"] += 1\n",
      "    elif i == \"T\":\n",
      "        out_dict[\"T\"] += 1\n",
      "    elif i == \"C\":\n",
      "        out_dict[\"C\"] += 1\n",
      "    else:\n",
      "        out_dict[\"G\"] += 1\n",
      "        \n",
      "print out_dict\n",
      "    "
     ],
     "language": "python",
     "metadata": {},
     "outputs": [
      {
       "output_type": "stream",
       "stream": "stdout",
       "text": [
        "{'A': 6, 'C': 4, 'T': 6, 'G': 5}\n"
       ]
      }
     ],
     "prompt_number": 4
    },
    {
     "cell_type": "markdown",
     "metadata": {},
     "source": [
      "This solution works just fine, but there are many many ways we could handle this, here's another."
     ]
    },
    {
     "cell_type": "code",
     "collapsed": false,
     "input": [
      "s = \"ATGCTTCAGAAAGGTCTTACG\"\n",
      "out_dict = {\"A\":0,\"T\":0,\"C\":0,\"G\":0}\n",
      "for i in \"ATCG\":\n",
      "    out_dict[i] = s.count(i)\n",
      "print out_dict"
     ],
     "language": "python",
     "metadata": {},
     "outputs": [
      {
       "output_type": "stream",
       "stream": "stdout",
       "text": [
        "{'A': 6, 'C': 4, 'T': 6, 'G': 5}\n"
       ]
      }
     ],
     "prompt_number": 5
    },
    {
     "cell_type": "markdown",
     "metadata": {},
     "source": [
      "## <center> Exercise 1 </center> \n",
      "Take one of the above solutions and embed it in a script you can call from the command line reading in the file **dna_nuceotide.txt** and outputting the count of each base pair."
     ]
    },
    {
     "cell_type": "code",
     "collapsed": false,
     "input": [],
     "language": "python",
     "metadata": {},
     "outputs": []
    },
    {
     "cell_type": "markdown",
     "metadata": {},
     "source": [
      "## <center>Exercise 2 </center>\n",
      "\n",
      "An RNA string is a string formed from the alphabet containing 'A', 'C', 'G', and 'U'.\n",
      "\n",
      "Given a DNA string t corresponding to a coding strand, its transcribed RNA string u is formed by replacing all occurrences of 'T' in t with 'U' in u.\n",
      "\n",
      "*Given:* A DNA string t having length at most 1000 nt.\n",
      "\n",
      "*Return:* The transcribed RNA string of t.\n",
      "\n",
      "**Sample Dataset**\n",
      "\n",
      ">GATGGAACTTGACTACGTAAATT\n",
      "\n",
      "**Sample Output**\n",
      "\n",
      ">GAUGGAACUUGACUACGUAAAUU\n",
      "\n",
      "Write a command line executable script that can read in the file **transcribe_dna.txt** and writes a file called **rna.txt** with the transcribed data."
     ]
    },
    {
     "cell_type": "code",
     "collapsed": false,
     "input": [],
     "language": "python",
     "metadata": {},
     "outputs": []
    },
    {
     "cell_type": "markdown",
     "metadata": {},
     "source": [
      "## <center>Exercise 3 </center>\n",
      "\n",
      "A common task in ecology is to measure the similarity between sites. There are lots of ways of doing this but one common way is with the Bray-Curtis index.  The similarity between two sites can be calculated as follows.\n",
      "\n",
      "$$BC_{ii'} = \\frac{\\sum_{J}^{j=1}|n_{ij}-n_{i'j}|} {\\sum_{j=1}^{J}(n_{ij}+n_{i'j})}$$\n",
      "\n",
      "Here's a worked example:\n",
      "<table>\n",
      "    <tr><th>Site</th>  <th> Spp. A </th> <th> Spp. B </th><th> Spp. C </th><th> Spp. D </th><th> Spp. E </th></tr>\n",
      "    <tr><td>site 1 </td><td>  10  </td><td>  32    </td><td>  100   </td><td>  2     </td><td>  3    </td></tr> \n",
      "    <tr> <td> site 2 </td><td>   34    </td><td>  21     </td><td>   43    </td><td>   19    </td><td>   9    </td></tr> \n",
      "</table>\n",
      "\n",
      "$$BC_{12} = \\frac{\\left | 10-34 \\right | + \\left | 32-21 \\right | + \\left | 100-43 \\right | + \\left | 2-19 \\right | + \\left | 3-9 \\right |}{(10+32+100+2+3)+(34+21+43+19+9)}   = 0.421$$ \n",
      "\n",
      "Write a script that will read in a file **spec_mat.txt** that is a site x species matrix.  The output should be a data structure that has the pairwise disimilarity values for each site.  Write this you answer to a file.\n"
     ]
    },
    {
     "cell_type": "code",
     "collapsed": false,
     "input": [],
     "language": "python",
     "metadata": {},
     "outputs": []
    },
    {
     "cell_type": "markdown",
     "metadata": {},
     "source": [
      "## <center>Exercise 4 </center>\n",
      "\n",
      "One more bioinformatics problem for fun!\n",
      "\n",
      "Problem\n",
      "\n",
      "Given two strings *s* and *t* of equal length, the Hamming distance between s and t, denoted dH(s,t), is the number of corresponding symbols that differ in s and t. See Figure 2.\n",
      "\n",
      "\n",
      "<img src=\"http://rosalind.info/media/problems/hamm/Hamming_distance.png\",height=100, width=300>\n",
      "\n",
      "Figure 2. The Hamming distance between these two strings is 7. Mismatched symbols are colored red.\n",
      "\n",
      "*Given:* Two DNA strings s and t of equal length (not exceeding 1 kbp).\n",
      "\n",
      "*Return:* The Hamming distance dH(s,t).\n",
      "\n",
      "**Sample Dataset**\n",
      "\n",
      ">GAGCCTACTAACGGGAT\n",
      "\n",
      ">CATCGTAATGACGGCCT\n",
      "\n",
      "**Sample Output**\n",
      "\n",
      ">7\n",
      "\n",
      "Read in the file **hamm_data.txt** and output the Hamming distance. *Hint: it's one data file, so how do you tell the difference between the two strings to compare?*"
     ]
    },
    {
     "cell_type": "code",
     "collapsed": false,
     "input": [],
     "language": "python",
     "metadata": {},
     "outputs": []
    }
   ],
   "metadata": {}
  }
 ]
}